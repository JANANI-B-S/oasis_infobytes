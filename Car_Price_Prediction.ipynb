{
  "nbformat": 4,
  "nbformat_minor": 0,
  "metadata": {
    "colab": {
      "provenance": [],
      "authorship_tag": "ABX9TyPBS2I+qw6yHyh0DZYu+2Du",
      "include_colab_link": true
    },
    "kernelspec": {
      "name": "python3",
      "display_name": "Python 3"
    },
    "language_info": {
      "name": "python"
    }
  },
  "cells": [
    {
      "cell_type": "markdown",
      "metadata": {
        "id": "view-in-github",
        "colab_type": "text"
      },
      "source": [
        "<a href=\"https://colab.research.google.com/github/JANANI-B-S/oasis_infobytes/blob/main/Car_Price_Prediction.ipynb\" target=\"_parent\"><img src=\"https://colab.research.google.com/assets/colab-badge.svg\" alt=\"Open In Colab\"/></a>"
      ]
    },
    {
      "cell_type": "code",
      "source": [
        "import pandas as pd\n",
        "import numpy as np\n",
        "import joblib\n",
        "from sklearn.model_selection import train_test_split\n",
        "from sklearn.linear_model import LinearRegression\n",
        "from sklearn.ensemble import RandomForestRegressor\n",
        "from sklearn.metrics import mean_absolute_error, mean_squared_error, r2_score\n",
        "from sklearn.compose import ColumnTransformer\n",
        "from sklearn.preprocessing import StandardScaler, OneHotEncoder\n",
        "from sklearn.pipeline import Pipeline\n",
        "\n",
        "# Load the dataset\n",
        "data = pd.read_csv('/content/sample_data/car data.csv')\n",
        "\n",
        "# Separate the features and target variable\n",
        "X = data.drop(columns=['Selling_Price'])  # Features\n",
        "y = data['Selling_Price']  # Target variable\n",
        "\n",
        "# Identify categorical and numerical columns\n",
        "categorical_features = [col for col in X.columns if X[col].dtype == 'object']\n",
        "numerical_features = [col for col in X.columns if X[col].dtype in ['int64', 'float64']]\n",
        "\n",
        "# Split the data into training and testing sets\n",
        "X_train, X_test, y_train, y_test = train_test_split(X, y, test_size=0.2, random_state=42)\n",
        "\n",
        "# Preprocessor for scaling and encoding\n",
        "preprocessor = ColumnTransformer(\n",
        "    transformers=[\n",
        "        ('num', StandardScaler(), numerical_features),\n",
        "        ('cat', OneHotEncoder(handle_unknown='ignore'), categorical_features)\n",
        "    ])\n",
        "\n",
        "# Define models\n",
        "models = {\n",
        "    'Linear Regression': Pipeline(steps=[('preprocessor', preprocessor),\n",
        "                                         ('regressor', LinearRegression())]),\n",
        "\n",
        "    'Random Forest': Pipeline(steps=[('preprocessor', preprocessor),\n",
        "                                     ('regressor', RandomForestRegressor(n_estimators=100, random_state=42))])\n",
        "}\n",
        "\n",
        "# Train the model\n",
        "model = models['Random Forest']  # Use Random Forest as an example\n",
        "model.fit(X_train, y_train)\n",
        "\n",
        "# Predict the model\n",
        "y_pred = model.predict(X_test)\n",
        "\n",
        "# Evaluate the model\n",
        "mae = mean_absolute_error(y_test, y_pred)\n",
        "mse = mean_squared_error(y_test, y_pred)\n",
        "rmse = np.sqrt(mse)\n",
        "r2 = r2_score(y_test, y_pred)\n",
        "\n",
        "print(f\"Results for Random Forest:\")\n",
        "print(f\"Mean Absolute Error (MAE): {mae}\")\n",
        "print(f\"Mean Squared Error (MSE): {mse}\")\n",
        "print(f\"Root Mean Squared Error (RMSE): {rmse}\")\n",
        "print(f\"R^2 Score: {r2}\\n\")\n",
        "\n",
        "# Save the model\n",
        "joblib.dump(model, 'car_price_model.pkl')\n",
        "\n",
        "# Load the saved model for prediction\n",
        "model = joblib.load('car_price_model.pkl')\n",
        "\n",
        "# Function to get user input and predict the car price\n",
        "def predict_car_price():\n",
        "    car_name = input(\"Enter car name: \")\n",
        "    year = int(input(\"Enter car year: \"))\n",
        "    present_price = float(input(\"Enter present price: \"))\n",
        "    driven_kms = int(input(\"Enter kilometers driven: \"))\n",
        "    fuel_type = input(\"Enter fuel type (Petrol/Diesel): \")\n",
        "    selling_type = input(\"Enter selling type (Dealer/Individual): \")\n",
        "    transmission = input(\"Enter transmission type (Manual/Automatic): \")\n",
        "    owner = int(input(\"Enter number of owners: \"))\n",
        "\n",
        "    # Prepare the input for prediction\n",
        "    user_input = pd.DataFrame({\n",
        "        'Car_Name': [car_name],\n",
        "        'Year': [year],\n",
        "        'Present_Price': [present_price],\n",
        "        'Driven_kms': [driven_kms],\n",
        "        'Fuel_Type': [fuel_type],\n",
        "        'Selling_type': [selling_type],\n",
        "        'Transmission': [transmission],\n",
        "        'Owner': [owner]\n",
        "    })\n",
        "\n",
        "    # Predict the selling price using the trained model\n",
        "    predicted_price = model.predict(user_input)\n",
        "    print(f\"The predicted selling price of the car is: {predicted_price[0]:.2f} lakhs\")\n",
        "\n",
        "# Call the function to get user input and predict the price\n",
        "predict_car_price()\n"
      ],
      "metadata": {
        "colab": {
          "base_uri": "https://localhost:8080/"
        },
        "id": "Iy2NCEb3R5PA",
        "outputId": "454d179a-af64-41d5-ad70-338806a89d61"
      },
      "execution_count": null,
      "outputs": [
        {
          "output_type": "stream",
          "name": "stdout",
          "text": [
            "Results for Random Forest:\n",
            "Mean Absolute Error (MAE): 0.5950491803278689\n",
            "Mean Squared Error (MSE): 0.7752991534426226\n",
            "Root Mean Squared Error (RMSE): 0.880510734427822\n",
            "R^2 Score: 0.9663434130460322\n",
            "\n",
            "Enter car name: Honda Civic\n",
            "Enter car year: 2016\n",
            "Enter present price: 9.00\n",
            "Enter kilometers driven: 30000\n",
            "Enter fuel type (Petrol/Diesel): Petrol\n",
            "Enter selling type (Dealer/Individual): Dealer\n",
            "Enter transmission type (Manual/Automatic): Manual\n",
            "Enter number of owners: 1\n",
            "The predicted selling price of the car is: 7.35 lakhs\n"
          ]
        }
      ]
    }
  ]
}